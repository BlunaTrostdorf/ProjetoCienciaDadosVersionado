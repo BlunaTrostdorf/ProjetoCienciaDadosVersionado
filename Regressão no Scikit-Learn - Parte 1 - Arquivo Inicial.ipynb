{
 "cells": [
  {
   "cell_type": "markdown",
   "metadata": {},
   "source": [
    "### Regressão no Scikit-Learn\n",
    "- https://scikit-learn.org/stable/modules/generated/sklearn.linear_model.LinearRegression.html\n",
    "<br><br>\n",
    "- Vamos usar a base de ações da Tesla para tentar prever a quantidade de ações vendidas no dia\n",
    "    - Base: https://www.kaggle.com/datasets/timoboz/tesla-stock-data-from-2010-to-2020"
   ]
  }
 ],
 "metadata": {
  "kernelspec": {
   "display_name": "Python 3",
   "language": "python",
   "name": "python3"
  },
  "language_info": {
   "codemirror_mode": {
    "name": "ipython",
    "version": 3
   },
   "file_extension": ".py",
   "mimetype": "text/x-python",
   "name": "python",
   "nbconvert_exporter": "python",
   "pygments_lexer": "ipython3",
   "version": "3.8.5"
  }
 },
 "nbformat": 4,
 "nbformat_minor": 4
}
